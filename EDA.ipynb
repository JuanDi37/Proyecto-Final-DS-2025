{
 "cells": [
  {
   "cell_type": "markdown",
   "id": "18bc05c8",
   "metadata": {},
   "source": [
    "## Preguntas de investigación\n",
    "1. ¿Cómo varía la prevalencia de diabetes según las categorías de BMI?  \n",
    "2. ¿Cuál es la relación entre la edad y la probabilidad de diabetes por sexo?  \n",
    "3. ¿El nivel de actividad física se asocia con un menor riesgo de diabetes?"
   ]
  },
  {
   "cell_type": "code",
   "execution_count": 44,
   "id": "5d056d10",
   "metadata": {},
   "outputs": [
    {
     "data": {
      "application/vnd.microsoft.datawrangler.viewer.v0+json": {
       "columns": [
        {
         "name": "index",
         "rawType": "int64",
         "type": "integer"
        },
        {
         "name": "Diabetes_012",
         "rawType": "float64",
         "type": "float"
        },
        {
         "name": "HighBP",
         "rawType": "float64",
         "type": "float"
        },
        {
         "name": "HighChol",
         "rawType": "float64",
         "type": "float"
        },
        {
         "name": "CholCheck",
         "rawType": "float64",
         "type": "float"
        },
        {
         "name": "BMI",
         "rawType": "float64",
         "type": "float"
        },
        {
         "name": "Smoker",
         "rawType": "float64",
         "type": "float"
        },
        {
         "name": "Stroke",
         "rawType": "float64",
         "type": "float"
        },
        {
         "name": "HeartDiseaseorAttack",
         "rawType": "float64",
         "type": "float"
        },
        {
         "name": "PhysActivity",
         "rawType": "float64",
         "type": "float"
        },
        {
         "name": "Fruits",
         "rawType": "float64",
         "type": "float"
        },
        {
         "name": "Veggies",
         "rawType": "float64",
         "type": "float"
        },
        {
         "name": "HvyAlcoholConsump",
         "rawType": "float64",
         "type": "float"
        },
        {
         "name": "AnyHealthcare",
         "rawType": "float64",
         "type": "float"
        },
        {
         "name": "NoDocbcCost",
         "rawType": "float64",
         "type": "float"
        },
        {
         "name": "GenHlth",
         "rawType": "float64",
         "type": "float"
        },
        {
         "name": "MentHlth",
         "rawType": "float64",
         "type": "float"
        },
        {
         "name": "PhysHlth",
         "rawType": "float64",
         "type": "float"
        },
        {
         "name": "DiffWalk",
         "rawType": "float64",
         "type": "float"
        },
        {
         "name": "Sex",
         "rawType": "float64",
         "type": "float"
        },
        {
         "name": "Age",
         "rawType": "float64",
         "type": "float"
        },
        {
         "name": "Education",
         "rawType": "float64",
         "type": "float"
        },
        {
         "name": "Income",
         "rawType": "float64",
         "type": "float"
        },
        {
         "name": "Diabetes_binary",
         "rawType": "int64",
         "type": "integer"
        },
        {
         "name": "BMI_cat",
         "rawType": "category",
         "type": "unknown"
        }
       ],
       "conversionMethod": "pd.DataFrame",
       "ref": "f41eb94d-1c6f-4632-946b-f37edb99c62a",
       "rows": [
        [
         "0",
         "0.0",
         "1.0",
         "1.0",
         "1.0",
         "40.0",
         "1.0",
         "0.0",
         "0.0",
         "0.0",
         "0.0",
         "1.0",
         "0.0",
         "1.0",
         "0.0",
         "5.0",
         "18.0",
         "15.0",
         "1.0",
         "0.0",
         "9.0",
         "4.0",
         "3.0",
         "0",
         "Obese"
        ],
        [
         "1",
         "0.0",
         "0.0",
         "0.0",
         "0.0",
         "25.0",
         "1.0",
         "0.0",
         "0.0",
         "1.0",
         "0.0",
         "0.0",
         "0.0",
         "0.0",
         "1.0",
         "3.0",
         "0.0",
         "0.0",
         "0.0",
         "0.0",
         "7.0",
         "6.0",
         "1.0",
         "0",
         "Normal"
        ],
        [
         "2",
         "0.0",
         "1.0",
         "1.0",
         "1.0",
         "28.0",
         "0.0",
         "0.0",
         "0.0",
         "0.0",
         "1.0",
         "0.0",
         "0.0",
         "1.0",
         "1.0",
         "5.0",
         "30.0",
         "30.0",
         "1.0",
         "0.0",
         "9.0",
         "4.0",
         "8.0",
         "0",
         "Overweight"
        ],
        [
         "3",
         "0.0",
         "1.0",
         "0.0",
         "1.0",
         "27.0",
         "0.0",
         "0.0",
         "0.0",
         "1.0",
         "1.0",
         "1.0",
         "0.0",
         "1.0",
         "0.0",
         "2.0",
         "0.0",
         "0.0",
         "0.0",
         "0.0",
         "11.0",
         "3.0",
         "6.0",
         "0",
         "Overweight"
        ],
        [
         "4",
         "0.0",
         "1.0",
         "1.0",
         "1.0",
         "24.0",
         "0.0",
         "0.0",
         "0.0",
         "1.0",
         "1.0",
         "1.0",
         "0.0",
         "1.0",
         "0.0",
         "2.0",
         "3.0",
         "0.0",
         "0.0",
         "0.0",
         "11.0",
         "5.0",
         "4.0",
         "0",
         "Normal"
        ]
       ],
       "shape": {
        "columns": 24,
        "rows": 5
       }
      },
      "text/html": [
       "<div>\n",
       "<style scoped>\n",
       "    .dataframe tbody tr th:only-of-type {\n",
       "        vertical-align: middle;\n",
       "    }\n",
       "\n",
       "    .dataframe tbody tr th {\n",
       "        vertical-align: top;\n",
       "    }\n",
       "\n",
       "    .dataframe thead th {\n",
       "        text-align: right;\n",
       "    }\n",
       "</style>\n",
       "<table border=\"1\" class=\"dataframe\">\n",
       "  <thead>\n",
       "    <tr style=\"text-align: right;\">\n",
       "      <th></th>\n",
       "      <th>Diabetes_012</th>\n",
       "      <th>HighBP</th>\n",
       "      <th>HighChol</th>\n",
       "      <th>CholCheck</th>\n",
       "      <th>BMI</th>\n",
       "      <th>Smoker</th>\n",
       "      <th>Stroke</th>\n",
       "      <th>HeartDiseaseorAttack</th>\n",
       "      <th>PhysActivity</th>\n",
       "      <th>Fruits</th>\n",
       "      <th>...</th>\n",
       "      <th>GenHlth</th>\n",
       "      <th>MentHlth</th>\n",
       "      <th>PhysHlth</th>\n",
       "      <th>DiffWalk</th>\n",
       "      <th>Sex</th>\n",
       "      <th>Age</th>\n",
       "      <th>Education</th>\n",
       "      <th>Income</th>\n",
       "      <th>Diabetes_binary</th>\n",
       "      <th>BMI_cat</th>\n",
       "    </tr>\n",
       "  </thead>\n",
       "  <tbody>\n",
       "    <tr>\n",
       "      <th>0</th>\n",
       "      <td>0.0</td>\n",
       "      <td>1.0</td>\n",
       "      <td>1.0</td>\n",
       "      <td>1.0</td>\n",
       "      <td>40.0</td>\n",
       "      <td>1.0</td>\n",
       "      <td>0.0</td>\n",
       "      <td>0.0</td>\n",
       "      <td>0.0</td>\n",
       "      <td>0.0</td>\n",
       "      <td>...</td>\n",
       "      <td>5.0</td>\n",
       "      <td>18.0</td>\n",
       "      <td>15.0</td>\n",
       "      <td>1.0</td>\n",
       "      <td>0.0</td>\n",
       "      <td>9.0</td>\n",
       "      <td>4.0</td>\n",
       "      <td>3.0</td>\n",
       "      <td>0</td>\n",
       "      <td>Obese</td>\n",
       "    </tr>\n",
       "    <tr>\n",
       "      <th>1</th>\n",
       "      <td>0.0</td>\n",
       "      <td>0.0</td>\n",
       "      <td>0.0</td>\n",
       "      <td>0.0</td>\n",
       "      <td>25.0</td>\n",
       "      <td>1.0</td>\n",
       "      <td>0.0</td>\n",
       "      <td>0.0</td>\n",
       "      <td>1.0</td>\n",
       "      <td>0.0</td>\n",
       "      <td>...</td>\n",
       "      <td>3.0</td>\n",
       "      <td>0.0</td>\n",
       "      <td>0.0</td>\n",
       "      <td>0.0</td>\n",
       "      <td>0.0</td>\n",
       "      <td>7.0</td>\n",
       "      <td>6.0</td>\n",
       "      <td>1.0</td>\n",
       "      <td>0</td>\n",
       "      <td>Normal</td>\n",
       "    </tr>\n",
       "    <tr>\n",
       "      <th>2</th>\n",
       "      <td>0.0</td>\n",
       "      <td>1.0</td>\n",
       "      <td>1.0</td>\n",
       "      <td>1.0</td>\n",
       "      <td>28.0</td>\n",
       "      <td>0.0</td>\n",
       "      <td>0.0</td>\n",
       "      <td>0.0</td>\n",
       "      <td>0.0</td>\n",
       "      <td>1.0</td>\n",
       "      <td>...</td>\n",
       "      <td>5.0</td>\n",
       "      <td>30.0</td>\n",
       "      <td>30.0</td>\n",
       "      <td>1.0</td>\n",
       "      <td>0.0</td>\n",
       "      <td>9.0</td>\n",
       "      <td>4.0</td>\n",
       "      <td>8.0</td>\n",
       "      <td>0</td>\n",
       "      <td>Overweight</td>\n",
       "    </tr>\n",
       "    <tr>\n",
       "      <th>3</th>\n",
       "      <td>0.0</td>\n",
       "      <td>1.0</td>\n",
       "      <td>0.0</td>\n",
       "      <td>1.0</td>\n",
       "      <td>27.0</td>\n",
       "      <td>0.0</td>\n",
       "      <td>0.0</td>\n",
       "      <td>0.0</td>\n",
       "      <td>1.0</td>\n",
       "      <td>1.0</td>\n",
       "      <td>...</td>\n",
       "      <td>2.0</td>\n",
       "      <td>0.0</td>\n",
       "      <td>0.0</td>\n",
       "      <td>0.0</td>\n",
       "      <td>0.0</td>\n",
       "      <td>11.0</td>\n",
       "      <td>3.0</td>\n",
       "      <td>6.0</td>\n",
       "      <td>0</td>\n",
       "      <td>Overweight</td>\n",
       "    </tr>\n",
       "    <tr>\n",
       "      <th>4</th>\n",
       "      <td>0.0</td>\n",
       "      <td>1.0</td>\n",
       "      <td>1.0</td>\n",
       "      <td>1.0</td>\n",
       "      <td>24.0</td>\n",
       "      <td>0.0</td>\n",
       "      <td>0.0</td>\n",
       "      <td>0.0</td>\n",
       "      <td>1.0</td>\n",
       "      <td>1.0</td>\n",
       "      <td>...</td>\n",
       "      <td>2.0</td>\n",
       "      <td>3.0</td>\n",
       "      <td>0.0</td>\n",
       "      <td>0.0</td>\n",
       "      <td>0.0</td>\n",
       "      <td>11.0</td>\n",
       "      <td>5.0</td>\n",
       "      <td>4.0</td>\n",
       "      <td>0</td>\n",
       "      <td>Normal</td>\n",
       "    </tr>\n",
       "  </tbody>\n",
       "</table>\n",
       "<p>5 rows × 24 columns</p>\n",
       "</div>"
      ],
      "text/plain": [
       "   Diabetes_012  HighBP  HighChol  CholCheck   BMI  Smoker  Stroke  \\\n",
       "0           0.0     1.0       1.0        1.0  40.0     1.0     0.0   \n",
       "1           0.0     0.0       0.0        0.0  25.0     1.0     0.0   \n",
       "2           0.0     1.0       1.0        1.0  28.0     0.0     0.0   \n",
       "3           0.0     1.0       0.0        1.0  27.0     0.0     0.0   \n",
       "4           0.0     1.0       1.0        1.0  24.0     0.0     0.0   \n",
       "\n",
       "   HeartDiseaseorAttack  PhysActivity  Fruits  ...  GenHlth  MentHlth  \\\n",
       "0                   0.0           0.0     0.0  ...      5.0      18.0   \n",
       "1                   0.0           1.0     0.0  ...      3.0       0.0   \n",
       "2                   0.0           0.0     1.0  ...      5.0      30.0   \n",
       "3                   0.0           1.0     1.0  ...      2.0       0.0   \n",
       "4                   0.0           1.0     1.0  ...      2.0       3.0   \n",
       "\n",
       "   PhysHlth  DiffWalk  Sex   Age  Education  Income  Diabetes_binary  \\\n",
       "0      15.0       1.0  0.0   9.0        4.0     3.0                0   \n",
       "1       0.0       0.0  0.0   7.0        6.0     1.0                0   \n",
       "2      30.0       1.0  0.0   9.0        4.0     8.0                0   \n",
       "3       0.0       0.0  0.0  11.0        3.0     6.0                0   \n",
       "4       0.0       0.0  0.0  11.0        5.0     4.0                0   \n",
       "\n",
       "      BMI_cat  \n",
       "0       Obese  \n",
       "1      Normal  \n",
       "2  Overweight  \n",
       "3  Overweight  \n",
       "4      Normal  \n",
       "\n",
       "[5 rows x 24 columns]"
      ]
     },
     "execution_count": 44,
     "metadata": {},
     "output_type": "execute_result"
    }
   ],
   "source": [
    "import pandas as pd\n",
    "import seaborn as sns\n",
    "import matplotlib.pyplot as plt\n",
    "from sklearn.linear_model import LinearRegression\n",
    "from sklearn.metrics import r2_score\n",
    "\n",
    "df = pd.read_csv(r\"diabetes_012_health_indicators_BRFSS2015.csv\")\n",
    "df['Diabetes_binary'] = df['Diabetes_012'].map({0:0, 1:1, 2:1})\n",
    "df['BMI_cat'] = pd.cut(df['BMI'],\n",
    "                       bins=[0, 18.5, 25, 30, 100],\n",
    "                       labels=['Underweight','Normal','Overweight','Obese'])\n",
    "df.head()"
   ]
  },
  {
   "cell_type": "code",
   "execution_count": 45,
   "id": "15567a6b",
   "metadata": {},
   "outputs": [
    {
     "data": {
      "image/png": "[encoded data removed]",
      "text/plain": [
       "<Figure size 800x600 with 1 Axes>"
      ]
     },
     "metadata": {},
     "output_type": "display_data"
    }
   ],
   "source": [
    "# 1. Prevalencia de diabetes por categoría de BMI\n",
    "\n",
    "plt.figure(figsize=(8,6))\n",
    "sns.countplot(data=df, x='BMI_cat', hue='Diabetes_binary')\n",
    "plt.title('Diabetes según categoría de BMI')\n",
    "plt.xlabel('Categoría BMI')\n",
    "plt.ylabel('Conteo')\n",
    "plt.legend(['No diabetes','Diabetes/prediabetes'])\n",
    "plt.tight_layout()\n",
    "plt.show()"
   ]
  },
  {
   "cell_type": "markdown",
   "id": "0f4831b9",
   "metadata": {},
   "source": [
    "**Interpretación:** Se observa cómo la proporción de casos de diabetes/prediabetes crece progresivamente de \"Underweight\" a \"Obese\"."
   ]
  },
  {
   "cell_type": "code",
   "execution_count": 46,
   "id": "813e30e3",
   "metadata": {},
   "outputs": [
    {
     "data": {
      "application/vnd.microsoft.datawrangler.viewer.v0+json": {
       "columns": [
        {
         "name": "Sex",
         "rawType": "object",
         "type": "string"
        },
        {
         "name": "0",
         "rawType": "float64",
         "type": "float"
        },
        {
         "name": "1",
         "rawType": "float64",
         "type": "float"
        }
       ],
       "conversionMethod": "pd.DataFrame",
       "ref": "8f36df25-108b-462f-9fe0-a9b02a483604",
       "rows": [
        [
         "Mujer",
         "7.899337792144445",
         "9.29678800856531"
        ],
        [
         "Hombre",
         "7.639469938756146",
         "9.39800653939458"
        ]
       ],
       "shape": {
        "columns": 2,
        "rows": 2
       }
      },
      "text/html": [
       "<div>\n",
       "<style scoped>\n",
       "    .dataframe tbody tr th:only-of-type {\n",
       "        vertical-align: middle;\n",
       "    }\n",
       "\n",
       "    .dataframe tbody tr th {\n",
       "        vertical-align: top;\n",
       "    }\n",
       "\n",
       "    .dataframe thead th {\n",
       "        text-align: right;\n",
       "    }\n",
       "</style>\n",
       "<table border=\"1\" class=\"dataframe\">\n",
       "  <thead>\n",
       "    <tr style=\"text-align: right;\">\n",
       "      <th>Diabetes_binary</th>\n",
       "      <th>0</th>\n",
       "      <th>1</th>\n",
       "    </tr>\n",
       "    <tr>\n",
       "      <th>Sex</th>\n",
       "      <th></th>\n",
       "      <th></th>\n",
       "    </tr>\n",
       "  </thead>\n",
       "  <tbody>\n",
       "    <tr>\n",
       "      <th>Mujer</th>\n",
       "      <td>7.899338</td>\n",
       "      <td>9.296788</td>\n",
       "    </tr>\n",
       "    <tr>\n",
       "      <th>Hombre</th>\n",
       "      <td>7.639470</td>\n",
       "      <td>9.398007</td>\n",
       "    </tr>\n",
       "  </tbody>\n",
       "</table>\n",
       "</div>"
      ],
      "text/plain": [
       "Diabetes_binary         0         1\n",
       "Sex                                \n",
       "Mujer            7.899338  9.296788\n",
       "Hombre           7.639470  9.398007"
      ]
     },
     "execution_count": 46,
     "metadata": {},
     "output_type": "execute_result"
    }
   ],
   "source": [
    "# 2. Relación entre edad y diabetes por sexo\n",
    "age_sex = df.groupby(['Sex','Diabetes_binary'])['Age'].mean().unstack()\n",
    "age_sex.rename(index={0:'Mujer',1:'Hombre'}, inplace=True)\n",
    "age_sex"
   ]
  },
  {
   "cell_type": "markdown",
   "id": "88afd553",
   "metadata": {},
   "source": [
    "**Interpretación:** Las personas con diabetes tienden a ser mayores; esta tendencia se mantiene tanto en mujeres como en hombres. Los hombres presentan mas casos."
   ]
  },
  {
   "cell_type": "code",
   "execution_count": 47,
   "id": "eab466bf",
   "metadata": {},
   "outputs": [
    {
     "data": {
      "text/plain": [
       "PhysActivity\n",
       "0.0    0.235557\n",
       "1.0    0.132498\n",
       "Name: Diabetes_binary, dtype: float64"
      ]
     },
     "execution_count": 47,
     "metadata": {},
     "output_type": "execute_result"
    }
   ],
   "source": [
    "# 3. Actividad física y riesgo de diabetes\n",
    "phys_rate = df.groupby('PhysActivity')['Diabetes_binary'].mean()\n",
    "phys_rate"
   ]
  },
  {
   "cell_type": "markdown",
   "id": "0296d488",
   "metadata": {},
   "source": [
    "**Interpretación:** La tasa de diabetes/prediabetes es menor entre quienes reportan actividad física en los últimos 30 días."
   ]
  },
  {
   "cell_type": "code",
   "execution_count": 48,
   "id": "d5dc2606",
   "metadata": {},
   "outputs": [
    {
     "data": {
      "image/png": "[encoded data removed]",
      "text/plain": [
       "<Figure size 1000x800 with 2 Axes>"
      ]
     },
     "metadata": {},
     "output_type": "display_data"
    }
   ],
   "source": [
    "# Crear variable binaria de diabetes\n",
    "df['Diabetes_binary'] = df['Diabetes_012'].map({0: 0, 1: 1, 2: 1})\n",
    "\n",
    "# Calcular matriz de correlación\n",
    "correlation_matrix = df.corr(numeric_only=True)\n",
    "\n",
    "# Visualizar correlación con 'Diabetes_binary'\n",
    "plt.figure(figsize=(10, 8))\n",
    "sns.heatmap(\n",
    "    correlation_matrix[[\"Diabetes_binary\"]].sort_values(by=\"Diabetes_binary\", ascending=False),\n",
    "    annot=True, cmap=\"coolwarm\", fmt=\".2f\", linewidths=0.5\n",
    ")\n",
    "plt.title(\"Correlación de variables con 'Diabetes_binary'\")\n",
    "plt.tight_layout()\n",
    "plt.show()"
   ]
  },
  {
   "cell_type": "markdown",
   "id": "768c4536",
   "metadata": {},
   "source": [
    "## Análisis de correlación\n",
    "\n",
    "El mapa de calor revela que las variables más correlacionadas con la condición de diabetes son:\n",
    "- `HighBP` y `HighChol`: correlación positiva moderada (~0.27 y ~0.21)\n",
    "- `Age`: correlación leve positiva (~0.19)\n",
    "- `Smoker` y `MentHelth`: correlaciones más bajas pero positivas\n",
    "\n",
    "Estas relaciones sugieren que la preción alta es un factor importante en la prevalencia de diabetes, seguido del Colesterol alto.\n"
   ]
  },
  {
   "cell_type": "code",
   "execution_count": 49,
   "id": "c0921ab5",
   "metadata": {},
   "outputs": [
    {
     "name": "stdout",
     "output_type": "stream",
     "text": [
      "R² del modelo con Age y BMI como predictores: 0.1458\n"
     ]
    }
   ],
   "source": [
    "# Selección de variables predictoras\n",
    "X = df[[\"HighBP\", \"HighChol\", \"CholCheck\", \"Smoker\", \"Stroke\", \"HeartDiseaseorAttack\",\n",
    "          \"Fruits\", \"Veggies\", \"HvyAlcoholConsump\", \"GenHlth\", \"MentHlth\", \"PhysHlth\",]]\n",
    "y = df[\"Diabetes_binary\"]\n",
    "\n",
    "# Crear y entrenar el modelo\n",
    "model = LinearRegression()\n",
    "model.fit(X, y)\n",
    "\n",
    "# Calcular predicciones y R^2\n",
    "y_pred = model.predict(X)\n",
    "r2 = r2_score(y, y_pred)\n",
    "print(f\"R² del modelo con Age y BMI como predictores: {r2:.4f}\")"
   ]
  },
  {
   "cell_type": "markdown",
   "id": "25183d4d",
   "metadata": {},
   "source": [
    "## Modelo predictivo lineal (R²)\n",
    "\n",
    "Se entrenó un modelo de regresión lineal utilizando `HighBP` y `HighChol` como predictores. El valor de R² obtenido indica qué proporción de la varianza en la variable objetivo (`Diabetes_binary`) es explicada por estos dos predictores.\n",
    "\n",
    "Un R² bajo sugeriría que aunque `HighBP` y `HighChol` influyen en la diabetes, hay muchos otros factores importantes no modelados.\n"
   ]
  }
 ],
 "metadata": {
  "kernelspec": {
   "display_name": "Python 3",
   "language": "python",
   "name": "python3"
  },
  "language_info": {
   "codemirror_mode": {
    "name": "ipython",
    "version": 3
   },
   "file_extension": ".py",
   "mimetype": "text/x-python",
   "name": "python",
   "nbconvert_exporter": "python",
   "pygments_lexer": "ipython3",
   "version": "3.12.2"
  }
 },
 "nbformat": 4,
 "nbformat_minor": 5
}
